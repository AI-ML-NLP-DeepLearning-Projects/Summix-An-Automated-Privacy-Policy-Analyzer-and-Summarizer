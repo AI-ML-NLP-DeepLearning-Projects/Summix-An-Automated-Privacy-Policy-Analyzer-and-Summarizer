{
 "cells": [
  {
   "cell_type": "markdown",
   "metadata": {
    "colab_type": "text",
    "id": "MaILF2Y66mjv"
   },
   "source": [
    "#Abstractive Summarization of Privacy Policies with Seq2Seq\n",
    "**FYP1**\n",
    "BY:\n",
    "SHAHZEB AND MUNEEB\n"
   ]
  },
  {
   "cell_type": "markdown",
   "metadata": {
    "colab_type": "text",
    "id": "AOgbGhKS6mjx"
   },
   "source": [
    "The objective of this project is to build a model that can create relevant abstractive summaries for Privacy Policies preserving the original context. \n",
    "To build our model we will use a two-layered bidirectional RNN with LSTMs on the input data and two layers, each with an LSTM using attention on the target data.\n",
    "The sections of this project are:\n",
    "\n",
    "- Preparing the Data\n",
    "- Building the Model\n",
    "- Training the Model\n",
    "- Making Our Own Abstractive Summaries"
   ]
  },
  {
   "cell_type": "code",
   "execution_count": 1,
   "metadata": {
    "colab": {
     "base_uri": "https://localhost:8080/",
     "height": 64
    },
    "colab_type": "code",
    "executionInfo": {
     "elapsed": 3064,
     "status": "ok",
     "timestamp": 1583157206606,
     "user": {
      "displayName": "Muneeb Sial",
      "photoUrl": "https://lh3.googleusercontent.com/a-/AOh14GgrHZwwlxmJvXeNRBPRQ3bDeojuUaBRlm9pm-gwIg=s64",
      "userId": "02013851263585652343"
     },
     "user_tz": -300
    },
    "id": "Tw0keeCK6mjy",
    "outputId": "2c0dbf3a-5640-47bd-b62c-1c4617afbd68"
   },
   "outputs": [],
   "source": [
    "import pandas as pd\n",
    "import numpy as np\n",
    "import tensorflow as tf\n",
    "import re\n",
    "from nltk.corpus import stopwords\n",
    "import time\n",
    "from tensorflow.python.layers.core import Dense\n",
    "#import data_utils\n",
    "from tensorflow.python.ops.rnn_cell_impl import _zero_state_tensors"
   ]
  },
  {
   "cell_type": "code",
   "execution_count": 3,
   "metadata": {
    "colab": {
     "base_uri": "https://localhost:8080/",
     "height": 35
    },
    "colab_type": "code",
    "executionInfo": {
     "elapsed": 3048,
     "status": "ok",
     "timestamp": 1583157206617,
     "user": {
      "displayName": "Muneeb Sial",
      "photoUrl": "https://lh3.googleusercontent.com/a-/AOh14GgrHZwwlxmJvXeNRBPRQ3bDeojuUaBRlm9pm-gwIg=s64",
      "userId": "02013851263585652343"
     },
     "user_tz": -300
    },
    "id": "djqUeGR4CLdh",
    "outputId": "1c57222e-409f-4dee-c304-bd0f2892f0c5"
   },
   "outputs": [
    {
     "name": "stdout",
     "output_type": "stream",
     "text": [
      "TensorFlow Version: 1.15.0\n"
     ]
    }
   ],
   "source": [
    "print('TensorFlow Version: {}'.format(tf.__version__))\n"
   ]
  },
  {
   "cell_type": "markdown",
   "metadata": {
    "colab_type": "text",
    "id": "H0o8PPgD63ZP"
   },
   "source": [
    "### MOunt Drive"
   ]
  },
  {
   "cell_type": "code",
   "execution_count": 5,
   "metadata": {
    "colab": {
     "base_uri": "https://localhost:8080/",
     "height": 141
    },
    "colab_type": "code",
    "executionInfo": {
     "elapsed": 33874,
     "status": "ok",
     "timestamp": 1583157237506,
     "user": {
      "displayName": "Muneeb Sial",
      "photoUrl": "https://lh3.googleusercontent.com/a-/AOh14GgrHZwwlxmJvXeNRBPRQ3bDeojuUaBRlm9pm-gwIg=s64",
      "userId": "02013851263585652343"
     },
     "user_tz": -300
    },
    "id": "frzAZi2D67tn",
    "outputId": "c29a42cb-76d2-47e7-a917-30fd9cb9a2a5"
   },
   "outputs": [
    {
     "name": "stdout",
     "output_type": "stream",
     "text": [
      "C:\\Users\\Muneeb Sial\\Desktop\n"
     ]
    }
   ],
   "source": [
    "import os\n",
    "currentDirectory = os.getcwd()\n",
    "print (currentDirectory)"
   ]
  },
  {
   "cell_type": "markdown",
   "metadata": {
    "colab_type": "text",
    "id": "c7s5j-U46mj5"
   },
   "source": [
    "## Exploring The Data set\n"
   ]
  },
  {
   "cell_type": "code",
   "execution_count": 5,
   "metadata": {
    "colab": {},
    "colab_type": "code",
    "id": "o24fDOcG6mj6"
   },
   "outputs": [],
   "source": [
    "headings = pd.read_csv('./data.csv')"
   ]
  },
  {
   "cell_type": "code",
   "execution_count": 6,
   "metadata": {
    "colab": {
     "base_uri": "https://localhost:8080/",
     "height": 173
    },
    "colab_type": "code",
    "executionInfo": {
     "elapsed": 6193,
     "status": "ok",
     "timestamp": 1583157246190,
     "user": {
      "displayName": "Muneeb Sial",
      "photoUrl": "https://lh3.googleusercontent.com/a-/AOh14GgrHZwwlxmJvXeNRBPRQ3bDeojuUaBRlm9pm-gwIg=s64",
      "userId": "02013851263585652343"
     },
     "user_tz": -300
    },
    "id": "pv2B397Z6mj8",
    "outputId": "0f1df434-33d1-42d5-b223-9f0eac0e4e4f"
   },
   "outputs": [
    {
     "name": "stdout",
     "output_type": "stream",
     "text": [
      "(10510, 3)\n",
      "   Unnamed: 0                                              title  \\\n",
      "0           0  Aegon Life iTerm plan helps you save tax & get...   \n",
      "1           1  I'm no more an orphan: Woman finds 103-yr-old ...   \n",
      "2           2  Bulls**t: Krish on Kangana's claim of directin...   \n",
      "3           3  Esha shares chat of friend calling footballer ...   \n",
      "4           4  Pandya takes flying catch, 2 wickets on return...   \n",
      "\n",
      "                                             content  \n",
      "0  Aegon Life iTerm insurance plan helps you save...  \n",
      "1  An 81-year-old woman named Eileen Macken who g...  \n",
      "2  'Manikarnika: The Queen of Jhansi' co-director...  \n",
      "3  Actress Esha Gupta has apologised on Twitter f...  \n",
      "4  All-rounder Hardik Pandya took a flying catch ...  \n"
     ]
    }
   ],
   "source": [
    "print(headings.shape)\n",
    "print(headings.head())"
   ]
  },
  {
   "cell_type": "code",
   "execution_count": 7,
   "metadata": {
    "colab": {
     "base_uri": "https://localhost:8080/",
     "height": 87
    },
    "colab_type": "code",
    "executionInfo": {
     "elapsed": 5666,
     "status": "ok",
     "timestamp": 1583157246198,
     "user": {
      "displayName": "Muneeb Sial",
      "photoUrl": "https://lh3.googleusercontent.com/a-/AOh14GgrHZwwlxmJvXeNRBPRQ3bDeojuUaBRlm9pm-gwIg=s64",
      "userId": "02013851263585652343"
     },
     "user_tz": -300
    },
    "id": "NbtLoD046mkD",
    "outputId": "6872b215-8d40-4b2c-cce4-9a19c046284c"
   },
   "outputs": [
    {
     "data": {
      "text/plain": [
       "Unnamed: 0    0\n",
       "title         0\n",
       "content       0\n",
       "dtype: int64"
      ]
     },
     "execution_count": 7,
     "metadata": {},
     "output_type": "execute_result"
    }
   ],
   "source": [
    "# Check for any null values in the dataset\n",
    "headings.isnull().sum()"
   ]
  },
  {
   "cell_type": "code",
   "execution_count": 8,
   "metadata": {
    "colab": {},
    "colab_type": "code",
    "id": "oaJHve336uPq"
   },
   "outputs": [],
   "source": [
    "headings = headings.drop(['Unnamed: 0'], axis = 1)"
   ]
  },
  {
   "cell_type": "code",
   "execution_count": 9,
   "metadata": {
    "colab": {},
    "colab_type": "code",
    "id": "m55yoyyc6mkG"
   },
   "outputs": [],
   "source": [
    "# Remove null values and unneeded features\n",
    "headings = headings.dropna()\n",
    "\n",
    "headings = headings.reset_index(drop=True)"
   ]
  },
  {
   "cell_type": "code",
   "execution_count": 10,
   "metadata": {
    "colab": {
     "base_uri": "https://localhost:8080/",
     "height": 202
    },
    "colab_type": "code",
    "executionInfo": {
     "elapsed": 4710,
     "status": "ok",
     "timestamp": 1583157246203,
     "user": {
      "displayName": "Muneeb Sial",
      "photoUrl": "https://lh3.googleusercontent.com/a-/AOh14GgrHZwwlxmJvXeNRBPRQ3bDeojuUaBRlm9pm-gwIg=s64",
      "userId": "02013851263585652343"
     },
     "user_tz": -300
    },
    "id": "p8tL54i16mkJ",
    "outputId": "0e708555-d8c7-4509-a5d9-013b56ff0e49"
   },
   "outputs": [
    {
     "data": {
      "text/html": [
       "<div>\n",
       "<style scoped>\n",
       "    .dataframe tbody tr th:only-of-type {\n",
       "        vertical-align: middle;\n",
       "    }\n",
       "\n",
       "    .dataframe tbody tr th {\n",
       "        vertical-align: top;\n",
       "    }\n",
       "\n",
       "    .dataframe thead th {\n",
       "        text-align: right;\n",
       "    }\n",
       "</style>\n",
       "<table border=\"1\" class=\"dataframe\">\n",
       "  <thead>\n",
       "    <tr style=\"text-align: right;\">\n",
       "      <th></th>\n",
       "      <th>title</th>\n",
       "      <th>content</th>\n",
       "    </tr>\n",
       "  </thead>\n",
       "  <tbody>\n",
       "    <tr>\n",
       "      <td>0</td>\n",
       "      <td>Aegon Life iTerm plan helps you save tax &amp; get...</td>\n",
       "      <td>Aegon Life iTerm insurance plan helps you save...</td>\n",
       "    </tr>\n",
       "    <tr>\n",
       "      <td>1</td>\n",
       "      <td>I'm no more an orphan: Woman finds 103-yr-old ...</td>\n",
       "      <td>An 81-year-old woman named Eileen Macken who g...</td>\n",
       "    </tr>\n",
       "    <tr>\n",
       "      <td>2</td>\n",
       "      <td>Bulls**t: Krish on Kangana's claim of directin...</td>\n",
       "      <td>'Manikarnika: The Queen of Jhansi' co-director...</td>\n",
       "    </tr>\n",
       "    <tr>\n",
       "      <td>3</td>\n",
       "      <td>Esha shares chat of friend calling footballer ...</td>\n",
       "      <td>Actress Esha Gupta has apologised on Twitter f...</td>\n",
       "    </tr>\n",
       "    <tr>\n",
       "      <td>4</td>\n",
       "      <td>Pandya takes flying catch, 2 wickets on return...</td>\n",
       "      <td>All-rounder Hardik Pandya took a flying catch ...</td>\n",
       "    </tr>\n",
       "  </tbody>\n",
       "</table>\n",
       "</div>"
      ],
      "text/plain": [
       "                                               title  \\\n",
       "0  Aegon Life iTerm plan helps you save tax & get...   \n",
       "1  I'm no more an orphan: Woman finds 103-yr-old ...   \n",
       "2  Bulls**t: Krish on Kangana's claim of directin...   \n",
       "3  Esha shares chat of friend calling footballer ...   \n",
       "4  Pandya takes flying catch, 2 wickets on return...   \n",
       "\n",
       "                                             content  \n",
       "0  Aegon Life iTerm insurance plan helps you save...  \n",
       "1  An 81-year-old woman named Eileen Macken who g...  \n",
       "2  'Manikarnika: The Queen of Jhansi' co-director...  \n",
       "3  Actress Esha Gupta has apologised on Twitter f...  \n",
       "4  All-rounder Hardik Pandya took a flying catch ...  "
      ]
     },
     "execution_count": 10,
     "metadata": {},
     "output_type": "execute_result"
    }
   ],
   "source": [
    "headings.head()"
   ]
  },
  {
   "cell_type": "code",
   "execution_count": 12,
   "metadata": {
    "colab": {
     "base_uri": "https://localhost:8080/",
     "height": 69
    },
    "colab_type": "code",
    "executionInfo": {
     "elapsed": 3836,
     "status": "ok",
     "timestamp": 1583157246206,
     "user": {
      "displayName": "Muneeb Sial",
      "photoUrl": "https://lh3.googleusercontent.com/a-/AOh14GgrHZwwlxmJvXeNRBPRQ3bDeojuUaBRlm9pm-gwIg=s64",
      "userId": "02013851263585652343"
     },
     "user_tz": -300
    },
    "id": "zNP519m94Dl1",
    "outputId": "93fbc172-786c-41e8-8250-e8efa915496d"
   },
   "outputs": [
    {
     "name": "stderr",
     "output_type": "stream",
     "text": [
      "[nltk_data] Downloading package stopwords to C:\\Users\\Muneeb\n",
      "[nltk_data]     Sial\\AppData\\Roaming\\nltk_data...\n",
      "[nltk_data]   Package stopwords is already up-to-date!\n"
     ]
    },
    {
     "data": {
      "text/plain": [
       "True"
      ]
     },
     "execution_count": 12,
     "metadata": {},
     "output_type": "execute_result"
    }
   ],
   "source": [
    "import nltk\n",
    "nltk.download('stopwords')"
   ]
  },
  {
   "cell_type": "markdown",
   "metadata": {
    "colab_type": "text",
    "id": "_4iCevEI6mkP"
   },
   "source": [
    "## Preparing the Data"
   ]
  },
  {
   "cell_type": "code",
   "execution_count": 13,
   "metadata": {
    "colab": {},
    "colab_type": "code",
    "id": "Bgki8Rny6mkP"
   },
   "outputs": [],
   "source": [
    "# A list of contractions from http://stackoverflow.com/questions/19790188/expanding-english-language-contractions-in-python\n",
    "contractions = { \n",
    "\"ain't\": \"am not\",\n",
    "\"aren't\": \"are not\",\n",
    "\"can't\": \"cannot\",\n",
    "\"can't've\": \"cannot have\",\n",
    "\"'cause\": \"because\",\n",
    "\"could've\": \"could have\",\n",
    "\"couldn't\": \"could not\",\n",
    "\"couldn't've\": \"could not have\",\n",
    "\"didn't\": \"did not\",\n",
    "\"doesn't\": \"does not\",\n",
    "\"don't\": \"do not\",\n",
    "\"hadn't\": \"had not\",\n",
    "\"hadn't've\": \"had not have\",\n",
    "\"hasn't\": \"has not\",\n",
    "\"haven't\": \"have not\",\n",
    "\"he'd\": \"he would\",\n",
    "\"he'd've\": \"he would have\",\n",
    "\"he'll\": \"he will\",\n",
    "\"he's\": \"he is\",\n",
    "\"how'd\": \"how did\",\n",
    "\"how'll\": \"how will\",\n",
    "\"how's\": \"how is\",\n",
    "\"i'd\": \"i would\",\n",
    "\"i'll\": \"i will\",\n",
    "\"i'm\": \"i am\",\n",
    "\"i've\": \"i have\",\n",
    "\"isn't\": \"is not\",\n",
    "\"it'd\": \"it would\",\n",
    "\"it'll\": \"it will\",\n",
    "\"it's\": \"it is\",\n",
    "\"let's\": \"let us\",\n",
    "\"ma'am\": \"madam\",\n",
    "\"mayn't\": \"may not\",\n",
    "\"might've\": \"might have\",\n",
    "\"mightn't\": \"might not\",\n",
    "\"must've\": \"must have\",\n",
    "\"mustn't\": \"must not\",\n",
    "\"needn't\": \"need not\",\n",
    "\"oughtn't\": \"ought not\",\n",
    "\"shan't\": \"shall not\",\n",
    "\"sha'n't\": \"shall not\",\n",
    "\"she'd\": \"she would\",\n",
    "\"she'll\": \"she will\",\n",
    "\"she's\": \"she is\",\n",
    "\"should've\": \"should have\",\n",
    "\"shouldn't\": \"should not\",\n",
    "\"that'd\": \"that would\",\n",
    "\"that's\": \"that is\",\n",
    "\"there'd\": \"there had\",\n",
    "\"there's\": \"there is\",\n",
    "\"they'd\": \"they would\",\n",
    "\"they'll\": \"they will\",\n",
    "\"they're\": \"they are\",\n",
    "\"they've\": \"they have\",\n",
    "\"wasn't\": \"was not\",\n",
    "\"we'd\": \"we would\",\n",
    "\"we'll\": \"we will\",\n",
    "\"we're\": \"we are\",\n",
    "\"we've\": \"we have\",\n",
    "\"weren't\": \"were not\",\n",
    "\"what'll\": \"what will\",\n",
    "\"what're\": \"what are\",\n",
    "\"what's\": \"what is\",\n",
    "\"what've\": \"what have\",\n",
    "\"where'd\": \"where did\",\n",
    "\"where's\": \"where is\",\n",
    "\"who'll\": \"who will\",\n",
    "\"who's\": \"who is\",\n",
    "\"won't\": \"will not\",\n",
    "\"wouldn't\": \"would not\",\n",
    "\"you'd\": \"you would\",\n",
    "\"you'll\": \"you will\",\n",
    "\"you're\": \"you are\"\n",
    "}"
   ]
  },
  {
   "cell_type": "code",
   "execution_count": 14,
   "metadata": {
    "colab": {},
    "colab_type": "code",
    "id": "kXEYjxGE6mkT"
   },
   "outputs": [],
   "source": [
    "def clean_text(text, remove_stopwords = True):\n",
    "    '''Remove unwanted characters, stopwords, and format the text to create fewer nulls word embeddings'''\n",
    "    \n",
    "    # Convert words to lower case\n",
    "    text = text.lower()\n",
    "    \n",
    "    # Replace shorter contractions with their longer forms \n",
    "    if True:\n",
    "        text = text.split()\n",
    "        new_text = []\n",
    "        for word in text:\n",
    "            if word in contractions:\n",
    "                new_text.append(contractions[word])\n",
    "            else:\n",
    "                new_text.append(word)\n",
    "        text = \" \".join(new_text)\n",
    "    \n",
    "    # Format words and remove unwanted characters if left although we have removed them already while scraping\n",
    "    text = re.sub(r'https?:\\/\\/.*[\\r\\n]*', '', text, flags=re.MULTILINE)\n",
    "    text = re.sub(r'\\<a href', ' ', text)\n",
    "    text = re.sub(r'&amp;', '', text) \n",
    "    text = re.sub(r'[_\"\\-;%()|+&=*%.,!?:#$@\\[\\]/]', ' ', text)\n",
    "    text = re.sub(r'<br />', ' ', text)\n",
    "    text = re.sub(r'\\'', ' ', text)\n",
    "    text = re.sub(r'\\n', ' ', text)\n",
    "    \n",
    "    # Optionally, remove stop words\n",
    "    if remove_stopwords:\n",
    "        text = text.split()\n",
    "        stops = set(stopwords.words(\"english\"))\n",
    "        text = [w for w in text if not w in stops]\n",
    "        text = \" \".join(text)\n",
    "\n",
    "    return text"
   ]
  },
  {
   "cell_type": "markdown",
   "metadata": {
    "colab_type": "text",
    "id": "FbYOStM-6mkV"
   },
   "source": [
    "We will remove the stopwords from the texts because they do not provide much use for training our model.\n",
    "However, we will keep them for our summaries so that they sound more like natural phrases. "
   ]
  },
  {
   "cell_type": "code",
   "execution_count": null,
   "metadata": {},
   "outputs": [],
   "source": [
    "# Clean the summaries and texts\n",
    "clean_summaries = []\n",
    "for summary in headings.title:\n",
    "    clean_summaries.append(clean_text(summary, remove_stopwords=False))\n",
    "print(\"Summaries are complete.\")\n",
    "\n",
    "clean_texts = []\n",
    "for text in headings.content:\n",
    "    clean_texts.append(clean_text(text))\n",
    "print(\"Texts are complete.\")"
   ]
  },
  {
   "cell_type": "code",
   "execution_count": 16,
   "metadata": {
    "colab": {},
    "colab_type": "code",
    "id": "Ov6gNQzH6mkd"
   },
   "outputs": [],
   "source": [
    "def count_words(count_dict, text):\n",
    "    '''Count the number of occurrences of each word in a set of text'''\n",
    "    for sentence in text:\n",
    "        for word in sentence.split():\n",
    "            if word not in count_dict:\n",
    "                count_dict[word] = 1\n",
    "            else:\n",
    "                count_dict[word] += 1"
   ]
  },
  {
   "cell_type": "code",
   "execution_count": 17,
   "metadata": {
    "colab": {
     "base_uri": "https://localhost:8080/",
     "height": 35
    },
    "colab_type": "code",
    "executionInfo": {
     "elapsed": 2431,
     "status": "ok",
     "timestamp": 1583157248233,
     "user": {
      "displayName": "Muneeb Sial",
      "photoUrl": "https://lh3.googleusercontent.com/a-/AOh14GgrHZwwlxmJvXeNRBPRQ3bDeojuUaBRlm9pm-gwIg=s64",
      "userId": "02013851263585652343"
     },
     "user_tz": -300
    },
    "id": "EL2TwE406mkh",
    "outputId": "5ad9f7af-f7c4-4a46-a70e-5a084902ae33"
   },
   "outputs": [
    {
     "name": "stdout",
     "output_type": "stream",
     "text": [
      "Size of Vocabulary: 30822\n"
     ]
    }
   ],
   "source": [
    "# Find the number of times each word was used and the size of the vocabulary\n",
    "word_counts = {}\n",
    "\n",
    "count_words(word_counts, clean_summaries)\n",
    "count_words(word_counts, clean_texts)\n",
    "            \n",
    "print(\"Size of Vocabulary:\", len(word_counts))"
   ]
  },
  {
   "cell_type": "markdown",
   "metadata": {
    "colab_type": "text",
    "id": "a8CnYUDXaDs0"
   },
   "source": [
    "#Word Embeddings\n",
    "\n"
   ]
  },
  {
   "cell_type": "code",
   "execution_count": 18,
   "metadata": {
    "colab": {
     "base_uri": "https://localhost:8080/",
     "height": 35
    },
    "colab_type": "code",
    "executionInfo": {
     "elapsed": 39864,
     "status": "ok",
     "timestamp": 1583157287186,
     "user": {
      "displayName": "Muneeb Sial",
      "photoUrl": "https://lh3.googleusercontent.com/a-/AOh14GgrHZwwlxmJvXeNRBPRQ3bDeojuUaBRlm9pm-gwIg=s64",
      "userId": "02013851263585652343"
     },
     "user_tz": -300
    },
    "id": "paiPI3pR6mko",
    "outputId": "b8e8e125-65d2-498d-ebe5-ed434221baac"
   },
   "outputs": [
    {
     "name": "stdout",
     "output_type": "stream",
     "text": [
      "Word embeddings: 516783\n"
     ]
    }
   ],
   "source": [
    "\n",
    "# Load Conceptnet Numberbatch's (CN) embeddings, probably better than Glove \n",
    "#(https://github.com/commonsense/conceptnet-numberbatch)\n",
    "\n",
    "embeddings_index = {}\n",
    "with open('./numberbatch-en.txt', encoding='utf-8') as f:\n",
    "    for line in f:\n",
    "        #print (line)\n",
    "        values = line.split(' ')\n",
    "        #print (values[0])\n",
    "        word = values[0]\n",
    "        #print (values[1:])\n",
    "        embedding = np.asarray(values[1:], dtype='float32')\n",
    "        embeddings_index[word] = embedding\n",
    "\n",
    "        \n",
    "print('Word embeddings:', len(embeddings_index))"
   ]
  },
  {
   "cell_type": "code",
   "execution_count": 19,
   "metadata": {
    "colab": {
     "base_uri": "https://localhost:8080/",
     "height": 89
    },
    "colab_type": "code",
    "executionInfo": {
     "elapsed": 29030,
     "status": "ok",
     "timestamp": 1583157287188,
     "user": {
      "displayName": "Muneeb Sial",
      "photoUrl": "https://lh3.googleusercontent.com/a-/AOh14GgrHZwwlxmJvXeNRBPRQ3bDeojuUaBRlm9pm-gwIg=s64",
      "userId": "02013851263585652343"
     },
     "user_tz": -300
    },
    "id": "kQgzpE_q6mkr",
    "outputId": "389111e0-1949-457e-8139-8f5aaea20944"
   },
   "outputs": [
    {
     "name": "stdout",
     "output_type": "stream",
     "text": [
      "Number of words missing from CN: 379\n",
      "Percent of words that are missing from vocabulary: 1.23%\n",
      "['100', '61', 'kangana', '70', 'manikarnika', 'pandya', 'bjp', 'tharoor', 'iaf', '₹25', 'kohli', 'odis', '2019', 'kharge', 'ratna', '58', '300', 'chidambaram', '10', '200', '50', 'dravid', 'flipkart', '25', 'chouhan', '36', 'ngt', 'lalu', 'tejashwi', '11', '15', 'owaisi', '24', 'gurugram', '30', 'djokovic', 'pujara', 'bezos', 'ranji', '₹2', 'akhilesh', 'sitharaman', '2016', 'saina', '500', '29', 'sabyasachi', '13', 'patnaik', '18', 'piyush', 'goyal', 'kaushal', '83', 'swamy', '90', 'ramdev', '20', 'nehwal', 'icici', '2012', 'bengaluru', 'parrikar', 'aiims', '80', 'gambhir', '27', '77', '₹1', '98', '52', 'aaj', 'hrithik', 'evm', '₹18', '000', 'swara', '55', 'bhushan', 'it’s', 'dhawan', 'kuldeep', 'kumble', '16', '21', '₹100', '86', 'sehwag', 'khashoggi', '23', 'agustawestland', '45', 'tmc', 'sbi', 'lokhande', 'bsp', 'kumbh', '94', 'isro', 'narayanan', '19', 'jaitley', 'deepika', 'padukone', '14', 'yuvraj', 'apologised', 'nirav', 'shami', 'manjrekar', '2018', 'bcci', 'kovind', '35', '48', 't20', '33', 'nawazuddin', 'zomato', 't20i', '12', 'mnf', '₹10', '₹20', 'hirani', '₹8', 'ranaut', 'sushil', 'aaryan', 'rajnath', '900', '28', '₹3', 'rajkummar', 'mahajan', '700', '41', 'spacex', 'nahi', '34', 'ghosn', 'scindia', 'anupam', 'kher', 'rjd', 'aap', 'madhya', 'jio', '49', 'vodafone', '22', '75', 'rajinikanth', 'sajjan', 'janhvi', 'kareena', '400', '₹5', 'upgrad', 'sushant', '40', 'vadra', 'mlas', '120', 'sushma', '2020', 'kartarpur', '2008', '31', '125', 'paytm', '26', 'atal', 'sabarimala', '60', 'bharti', 'krunal', '2009', 'ambani', 'emraan', '150', 'softbank', 'ipl', 'ishant', 'sreesanth', 'harbhajan', '2014', 'noida', 'mamata', '₹50', 'kotak', 'mahindra', '43', 'cji', 'kejriwal', 'myntra', 'jabong', '51', 'choksi', '78', 'javadekar', 'haasan', '65', 'aadhaar', 'evms', 'paswan', '99', 'mayawati', 'anurag', 'hdfc', 'adani', 'gehlot', '17', 'oneplus', '6t', 'criticises', 'bumrah', 'himachal', '42', '₹9', 'gana', 'sterlite', 'gavaskar', 'asthana', 'randeep', 'aimim', '67', '₹4', '2017', 'ganguly', '11th', 'unilever', 'infosys', 'taapsee', '38', '74', '2022', '2002', '250', '63', '₹6', '₹15', 'kaif', 'ayushmann', '32', 'qualcomm', 'nitish', 'naxals', 'vvs', 'bulandshahr', 'ananth', '59', 'simmba', '₹40', 'bansal', 'vinta', 'naqvi', 'uddhav', 'muzaffarpur', '44', 'mahagathbandhan', '2006', '47', '600', 'gadkari', 'dhupia', '57', 'koffee', 'baat', 'prayagraj', 'manmohan', '2021', 'vajpayee', 'dmk', '1984', 'raje', 'samajwadi', '68', '130', 'rawat', 'surjewala', '72', 'kedarnath', '56', '54', '37', '85', 'piramal', 'rcom', 'cheteshwar', 'crpf', 'starc', 'kalyan', 'preity', '71', 'vijayan', '₹7', '2011', 'alibaba', 'naseeruddin', 'jasprit', 'mithali', 'harmanpreet', 'adityanath', 'sourav', 'mallya', 'achrekar', 'khurrana', 'amarinder', 'keeffe', 'mehbooba', 'mayank', 'rajya', 'aiadmk', 'tdp', 'swiggy', 'tanushree', 'urjit', '800', '81', 'gaja', 'khawaja', 'kcr', 'chandrababu', '2004', '95', '46', '2007', 'kushwaha', 'rlsp', 'ginni', 'asaduddin', '2015', '76', 'baghel', '88', 'shaktikanta', 'subramanian', '2013', '39', 'upendra', 'powar', '1999', '2003', '62', 'wickremesinghe', 'navjot', 'rajapaksa', 'rashtra', 'chandrashekar', 'pichai', 'vasundhara', '64', 'virender', 'krishnamurthy', 'kumaraswamy', 'shikhar', 't10', 'g20', 'bhawan', 'kasab', 'dassault', 'nanak', 'fadnavis', '53', 'hindostan', '69', 'jhansi', '”', 'gogoi', 'garg', '2010', 'ravichandran', '2005', 'rajkumar', 'sirisena', 'rashtriya', 'devendra', 'samithi']\n"
     ]
    }
   ],
   "source": [
    "# Find the number of words that are missing from CN, and are used more than our threshold.\n",
    "missing_words = 0\n",
    "threshold = 20    #20threshold #Thrshold is here if any word appear more than 20 therefore\n",
    "#I use a threshold of 20, so that words not in CN can be added to our word_embedding_matrix, but they need to be common enough in the paragraphs so that the model can understand their meaning.\n",
    "rey=[]\n",
    "for word, count in word_counts.items():\n",
    "    if count > threshold:\n",
    "        if word not in embeddings_index:\n",
    "            missing_words += 1\n",
    "            rey.append(word)\n",
    "            \n",
    "missing_ratio = round(missing_words/len(word_counts),4)*100\n",
    "            \n",
    "print(\"Number of words missing from CN:\", missing_words)\n",
    "print(\"Percent of words that are missing from vocabulary: {}%\".format(missing_ratio))\n",
    "print(rey)"
   ]
  },
  {
   "cell_type": "markdown",
   "metadata": {
    "colab_type": "text",
    "id": "g4m_anQh6mkx"
   },
   "source": []
  },
  {
   "cell_type": "code",
   "execution_count": 26,
   "metadata": {
    "colab": {
     "base_uri": "https://localhost:8080/",
     "height": 69
    },
    "colab_type": "code",
    "executionInfo": {
     "elapsed": 23124,
     "status": "ok",
     "timestamp": 1583157287195,
     "user": {
      "displayName": "Muneeb Sial",
      "photoUrl": "https://lh3.googleusercontent.com/a-/AOh14GgrHZwwlxmJvXeNRBPRQ3bDeojuUaBRlm9pm-gwIg=s64",
      "userId": "02013851263585652343"
     },
     "user_tz": -300
    },
    "id": "3wR-Uv4F6mky",
    "outputId": "8dd42163-c33a-4648-d900-6ac6394035e7"
   },
   "outputs": [
    {
     "name": "stdout",
     "output_type": "stream",
     "text": [
      "Total number of unique words: 30822\n",
      "Number of words we will use: 22660\n",
      "Percent of words we will use: 73.52%\n"
     ]
    }
   ],
   "source": [
    "# Limit the vocab that we will use to words that appear more tha threshold or are in GloVe\n",
    "\n",
    "#dictionary to convert words to integers\n",
    "vocab_to_int = {} \n",
    "\n",
    "value = 0\n",
    "for word, count in word_counts.items():\n",
    "    if count >= threshold or word in embeddings_index:\n",
    "        vocab_to_int[word] = value\n",
    "        value += 1\n",
    "\n",
    "# Special tokens that will be added to our vocab\n",
    "codes = [\"<UNK>\",\"<PAD>\",\"<EOS>\",\"<GO>\"]   \n",
    "\n",
    "# Add codes to vocab\n",
    "for code in codes:\n",
    "    vocab_to_int[code] = len(vocab_to_int)\n",
    "\n",
    "# Dictionary to convert integers to words\n",
    "int_to_vocab = {}\n",
    "for word, value in vocab_to_int.items():\n",
    "    int_to_vocab[value] = word\n",
    "\n",
    "usage_ratio = round(len(vocab_to_int) / len(word_counts),4)*100\n",
    "\n",
    "print(\"Total number of unique words:\", len(word_counts))\n",
    "print(\"Number of words we will use:\", len(vocab_to_int))\n",
    "print(\"Percent of words we will use: {}%\".format(usage_ratio))"
   ]
  },
  {
   "cell_type": "code",
   "execution_count": 27,
   "metadata": {
    "colab": {
     "base_uri": "https://localhost:8080/",
     "height": 1000
    },
    "colab_type": "code",
    "executionInfo": {
     "elapsed": 18779,
     "status": "ok",
     "timestamp": 1583157288711,
     "user": {
      "displayName": "Muneeb Sial",
      "photoUrl": "https://lh3.googleusercontent.com/a-/AOh14GgrHZwwlxmJvXeNRBPRQ3bDeojuUaBRlm9pm-gwIg=s64",
      "userId": "02013851263585652343"
     },
     "user_tz": -300
    },
    "id": "7sPlq0P06mk4",
    "outputId": "eec00dc8-ed39-41b5-9218-cf58fea4bdf8"
   },
   "outputs": [
    {
     "name": "stdout",
     "output_type": "stream",
     "text": [
      "22660\n"
     ]
    }
   ],
   "source": [
    "# Need to use 300 for embedding dimensions to match CN's vectors.\n",
    "embedding_dim = 300\n",
    "nb_words = len(vocab_to_int)\n",
    "\n",
    "# Create matrix with default values of zero\n",
    "word_embedding_matrix = np.zeros((nb_words, embedding_dim), dtype=np.float32)\n",
    "for word, i in vocab_to_int.items():\n",
    "    if word in embeddings_index:\n",
    "        word_embedding_matrix[i] = embeddings_index[word]\n",
    "    else:\n",
    "        # If word not in CN, create a random embedding for it\n",
    "        new_embedding = np.array(np.random.uniform(-1.0, 1.0, embedding_dim))\n",
    "        #print (new_embedding)\n",
    "        embeddings_index[word] = new_embedding\n",
    "        word_embedding_matrix[i] = new_embedding \n",
    "\n",
    "# Check if value matches len(vocab_to_int)\n",
    "print(len(word_embedding_matrix))"
   ]
  },
  {
   "cell_type": "code",
   "execution_count": 28,
   "metadata": {
    "colab": {},
    "colab_type": "code",
    "id": "lCQ36Smn6mk-"
   },
   "outputs": [],
   "source": [
    "def convert_to_ints(text, word_count, unk_count, eos=False):\n",
    "    '''Convert words in text to an integer.\n",
    "       If word is not in vocab_to_int, use UNK's integer.\n",
    "       Total the number of words and UNKs.\n",
    "       Add EOS token to the end of texts'''\n",
    "    ints = []\n",
    "    for sentence in text:\n",
    "        sentence_ints = []\n",
    "        for word in sentence.split():\n",
    "            word_count += 1\n",
    "            if word in vocab_to_int:\n",
    "                sentence_ints.append(vocab_to_int[word])\n",
    "            else:\n",
    "                sentence_ints.append(vocab_to_int[\"<UNK>\"])\n",
    "                unk_count += 1\n",
    "        if eos:\n",
    "            sentence_ints.append(vocab_to_int[\"<EOS>\"])\n",
    "        ints.append(sentence_ints)\n",
    "    return ints, word_count, unk_count"
   ]
  },
  {
   "cell_type": "code",
   "execution_count": 30,
   "metadata": {
    "colab": {
     "base_uri": "https://localhost:8080/",
     "height": 69
    },
    "colab_type": "code",
    "executionInfo": {
     "elapsed": 15663,
     "status": "ok",
     "timestamp": 1583157288715,
     "user": {
      "displayName": "Muneeb Sial",
      "photoUrl": "https://lh3.googleusercontent.com/a-/AOh14GgrHZwwlxmJvXeNRBPRQ3bDeojuUaBRlm9pm-gwIg=s64",
      "userId": "02013851263585652343"
     },
     "user_tz": -300
    },
    "id": "547FFl3u6mlA",
    "outputId": "6af7c6bb-2092-43a1-be99-4c5538d3d4b4"
   },
   "outputs": [
    {
     "name": "stdout",
     "output_type": "stream",
     "text": [
      "Total number of words in Vocab: 505345\n",
      "Total number of UNKs in Vocab: 20688\n",
      "Percent of words that are UNK: 4.09%\n"
     ]
    }
   ],
   "source": [
    "# Apply convert_to_ints to clean_summaries and clean_texts\n",
    "word_count = 0\n",
    "unk_count = 0\n",
    "\n",
    "int_summaries, word_count, unk_count = convert_to_ints(clean_summaries, word_count, unk_count)\n",
    "int_texts, word_count, unk_count = convert_to_ints(clean_texts, word_count, unk_count, eos=True)\n",
    "\n",
    "unk_percent = round(unk_count/word_count,4)*100\n",
    "\n",
    "print(\"Total number of words in Vocab:\", word_count)\n",
    "print(\"Total number of UNKs in Vocab:\", unk_count)\n",
    "print(\"Percent of words that are UNK: {}%\".format(unk_percent))"
   ]
  },
  {
   "cell_type": "code",
   "execution_count": 31,
   "metadata": {
    "colab": {
     "base_uri": "https://localhost:8080/",
     "height": 107
    },
    "colab_type": "code",
    "executionInfo": {
     "elapsed": 14636,
     "status": "ok",
     "timestamp": 1583157288717,
     "user": {
      "displayName": "Muneeb Sial",
      "photoUrl": "https://lh3.googleusercontent.com/a-/AOh14GgrHZwwlxmJvXeNRBPRQ3bDeojuUaBRlm9pm-gwIg=s64",
      "userId": "02013851263585652343"
     },
     "user_tz": -300
    },
    "id": "E8js9XjmKSEK",
    "outputId": "1f615feb-942e-4aba-c22e-4027a3c3fd95"
   },
   "outputs": [
    {
     "name": "stdout",
     "output_type": "stream",
     "text": [
      "bulls t krish on kangana s claim of directing 70 of manikarnika \n",
      "10510\n",
      "[[0, 1, 22656, 3123, 2, 3, 5, 6, 4227, 2365, 113, 22656, 3123, 2, 7, 1, 8, 957, 1332, 10, 212, 1984, 5, 22656, 7075, 1242, 738, 364, 4099, 10212, 11079, 32, 2206, 1058, 11455, 1984, 5657, 8447, 7135, 22658], [7094, 268, 21, 18, 705, 11456, 11457, 10144, 11458, 10023, 682, 17, 968, 8439, 22656, 268, 21, 1836, 3200, 24, 268, 404, 25, 1194, 682, 319, 11459, 11460, 2410, 2059, 7784, 11457, 6760, 1836, 856, 2803, 2054, 724, 22658], [36, 1100, 11461, 261, 544, 28, 6673, 30, 1960, 32, 3707, 35, 302, 682, 26, 567, 1977, 36, 793, 267, 302, 2305, 30, 3386, 1977, 211, 2305, 734, 28, 682, 4486, 6498, 22658], [687, 37, 5082, 1616, 1363, 2204, 3640, 10465, 11462, 39, 40, 11463, 40, 696, 7870, 42, 11464, 22656, 43, 37, 4433, 22656, 6133, 11465, 1684, 1885, 10408, 5321, 2720, 1619, 3436, 714, 1279, 1611, 11466, 22658], [892, 251, 45, 1401, 47, 48, 2524, 209, 210, 843, 11467, 4691, 51, 123, 169, 417, 418, 4384, 207, 3201, 4691, 1730, 2913, 11468, 958, 2188, 11469, 45, 3140, 1446, 11470, 48, 45, 1984, 8171, 240, 1292, 211, 131, 1352, 49, 423, 22658]]\n",
      "10510\n"
     ]
    }
   ],
   "source": [
    "#print (int_to_vocab[value] for value in int_summaries[:5])\n",
    "for value in int_summaries[2:]:\n",
    "  for value2 in value:\n",
    "    print (int_to_vocab[value2],end=\" \")\n",
    "  break\n",
    "print ()\n",
    "print (len(int_summaries))\n",
    "print (int_texts[:5])\n",
    "print (len(int_texts))\n"
   ]
  },
  {
   "cell_type": "code",
   "execution_count": 32,
   "metadata": {
    "colab": {},
    "colab_type": "code",
    "id": "dnRzSx6M6mlD"
   },
   "outputs": [],
   "source": [
    "def create_lengths(text):\n",
    "    '''Create a data frame of the sentence lengths from a text'''\n",
    "    lengths = []\n",
    "    for sentence in text:\n",
    "        lengths.append(len(sentence))\n",
    "    return pd.DataFrame(lengths, columns=['counts'])"
   ]
  },
  {
   "cell_type": "code",
   "execution_count": 33,
   "metadata": {
    "colab": {
     "base_uri": "https://localhost:8080/",
     "height": 381
    },
    "colab_type": "code",
    "executionInfo": {
     "elapsed": 12951,
     "status": "ok",
     "timestamp": 1583157288719,
     "user": {
      "displayName": "Muneeb Sial",
      "photoUrl": "https://lh3.googleusercontent.com/a-/AOh14GgrHZwwlxmJvXeNRBPRQ3bDeojuUaBRlm9pm-gwIg=s64",
      "userId": "02013851263585652343"
     },
     "user_tz": -300
    },
    "id": "5_i-9rYV6mlF",
    "outputId": "e87b1c9d-7cc0-41a5-d1eb-0d7d66f08ac0"
   },
   "outputs": [
    {
     "name": "stdout",
     "output_type": "stream",
     "text": [
      "Extracted Summaries:\n",
      "             counts\n",
      "count  10510.000000\n",
      "mean      10.661560\n",
      "std        1.676274\n",
      "min        2.000000\n",
      "25%       10.000000\n",
      "50%       11.000000\n",
      "75%       12.000000\n",
      "max       17.000000\n",
      "\n",
      "Paragraphs:\n",
      "             counts\n",
      "count  10510.000000\n",
      "mean      38.420742\n",
      "std        4.364620\n",
      "min       16.000000\n",
      "25%       36.000000\n",
      "50%       38.000000\n",
      "75%       41.000000\n",
      "max       58.000000\n"
     ]
    }
   ],
   "source": [
    "lengths_summaries = create_lengths(int_summaries)\n",
    "lengths_texts = create_lengths(int_texts)\n",
    "\n",
    "print(\"Extracted Summaries:\")\n",
    "print(lengths_summaries.describe())\n",
    "print()\n",
    "print(\"Paragraphs:\")\n",
    "print(lengths_texts.describe())"
   ]
  },
  {
   "cell_type": "code",
   "execution_count": 34,
   "metadata": {
    "colab": {
     "base_uri": "https://localhost:8080/",
     "height": 121
    },
    "colab_type": "code",
    "executionInfo": {
     "elapsed": 12070,
     "status": "ok",
     "timestamp": 1583157288721,
     "user": {
      "displayName": "Muneeb Sial",
      "photoUrl": "https://lh3.googleusercontent.com/a-/AOh14GgrHZwwlxmJvXeNRBPRQ3bDeojuUaBRlm9pm-gwIg=s64",
      "userId": "02013851263585652343"
     },
     "user_tz": -300
    },
    "id": "gD0oMIbeLyJr",
    "outputId": "3542246a-ed07-4890-bb5a-352bbaf9c151"
   },
   "outputs": [
    {
     "name": "stdout",
     "output_type": "stream",
     "text": [
      "   counts\n",
      "0      13\n",
      "1      16\n",
      "2      12\n",
      "3       9\n",
      "4      10\n"
     ]
    }
   ],
   "source": [
    "print (lengths_summaries[:5])"
   ]
  },
  {
   "cell_type": "code",
   "execution_count": 35,
   "metadata": {
    "colab": {
     "base_uri": "https://localhost:8080/",
     "height": 69
    },
    "colab_type": "code",
    "executionInfo": {
     "elapsed": 11397,
     "status": "ok",
     "timestamp": 1583157288723,
     "user": {
      "displayName": "Muneeb Sial",
      "photoUrl": "https://lh3.googleusercontent.com/a-/AOh14GgrHZwwlxmJvXeNRBPRQ3bDeojuUaBRlm9pm-gwIg=s64",
      "userId": "02013851263585652343"
     },
     "user_tz": -300
    },
    "id": "wVMlHmV46mlI",
    "outputId": "5813e474-9415-41ec-e619-d93dccada94b"
   },
   "outputs": [
    {
     "name": "stdout",
     "output_type": "stream",
     "text": [
      "44.0\n",
      "46.0\n",
      "49.0\n"
     ]
    }
   ],
   "source": [
    "# Inspect the length of texts\n",
    "#print(lengths_texts,count)\n",
    "\n",
    "print(np.percentile(lengths_texts.counts, 90))\n",
    "print(np.percentile(lengths_texts.counts, 95))\n",
    "print(np.percentile(lengths_texts.counts, 99))"
   ]
  },
  {
   "cell_type": "code",
   "execution_count": 36,
   "metadata": {
    "colab": {
     "base_uri": "https://localhost:8080/",
     "height": 69
    },
    "colab_type": "code",
    "executionInfo": {
     "elapsed": 10442,
     "status": "ok",
     "timestamp": 1583157288724,
     "user": {
      "displayName": "Muneeb Sial",
      "photoUrl": "https://lh3.googleusercontent.com/a-/AOh14GgrHZwwlxmJvXeNRBPRQ3bDeojuUaBRlm9pm-gwIg=s64",
      "userId": "02013851263585652343"
     },
     "user_tz": -300
    },
    "id": "Ic8buaf16mlL",
    "outputId": "18fe3a52-6f04-4c2a-de06-23e90e4465d5"
   },
   "outputs": [
    {
     "name": "stdout",
     "output_type": "stream",
     "text": [
      "13.0\n",
      "13.0\n",
      "15.0\n"
     ]
    }
   ],
   "source": [
    "# Inspect the length of summaries\n",
    "print(np.percentile(lengths_summaries.counts, 90))\n",
    "print(np.percentile(lengths_summaries.counts, 95))\n",
    "print(np.percentile(lengths_summaries.counts, 99))"
   ]
  },
  {
   "cell_type": "code",
   "execution_count": 37,
   "metadata": {
    "colab": {},
    "colab_type": "code",
    "id": "IPW-kF136mlQ"
   },
   "outputs": [],
   "source": [
    "def unk_counter(sentence):\n",
    "    '''Counts the number of time UNK appears in a sentence.'''\n",
    "    unk_count = 0\n",
    "    for word in sentence:\n",
    "        if word == vocab_to_int[\"<UNK>\"]:\n",
    "            unk_count += 1\n",
    "    return unk_count"
   ]
  },
  {
   "cell_type": "code",
   "execution_count": 38,
   "metadata": {
    "colab": {
     "base_uri": "https://localhost:8080/",
     "height": 52
    },
    "colab_type": "code",
    "executionInfo": {
     "elapsed": 8292,
     "status": "ok",
     "timestamp": 1583157290503,
     "user": {
      "displayName": "Muneeb Sial",
      "photoUrl": "https://lh3.googleusercontent.com/a-/AOh14GgrHZwwlxmJvXeNRBPRQ3bDeojuUaBRlm9pm-gwIg=s64",
      "userId": "02013851263585652343"
     },
     "user_tz": -300
    },
    "id": "EbFt7RTA6mlU",
    "outputId": "3ea92f8e-caad-44e8-c06c-213ba056ce17"
   },
   "outputs": [
    {
     "name": "stdout",
     "output_type": "stream",
     "text": [
      "8791\n",
      "8791\n"
     ]
    }
   ],
   "source": [
    "# takes a long time  , this is normal\n",
    "\n",
    "# Sort the summaries and texts by the length of the texts, shortest to longest\n",
    "# Limit the length of summaries and texts based on the min and max ranges.\n",
    "# Remove summaries that include too many UNKs\n",
    "\n",
    "sorted_summaries = []\n",
    "sorted_texts = []\n",
    "max_text_length = 60\n",
    "max_summary_length = 20\n",
    "min_length = 2\n",
    "unk_text_limit = 3\n",
    "unk_summary_limit = 1\n",
    "\n",
    "for length in range(min(lengths_texts.counts), max_text_length): \n",
    "    for count, words in enumerate(int_summaries):\n",
    "        if (len(int_summaries[count]) >= min_length and\n",
    "            len(int_summaries[count]) <= max_summary_length and\n",
    "            len(int_texts[count]) >= min_length and\n",
    "            unk_counter(int_summaries[count]) <= unk_summary_limit and\n",
    "            unk_counter(int_texts[count]) <= unk_text_limit and\n",
    "            length == len(int_texts[count])\n",
    "           ):\n",
    "            sorted_summaries.append(int_summaries[count])\n",
    "            sorted_texts.append(int_texts[count])\n",
    "        \n",
    "# Compare lengths to ensure they match\n",
    "print(len(sorted_summaries))\n",
    "print(len(sorted_texts))"
   ]
  },
  {
   "cell_type": "code",
   "execution_count": 39,
   "metadata": {
    "colab": {
     "base_uri": "https://localhost:8080/",
     "height": 55
    },
    "colab_type": "code",
    "executionInfo": {
     "elapsed": 191205,
     "status": "ok",
     "timestamp": 1581586460873,
     "user": {
      "displayName": "i160246 Muhammad Shahzeb Ali",
      "photoUrl": "https://lh3.googleusercontent.com/a-/AAuE7mDNXixi8uT005c0frFjGaAf4wiyWf4rXJj_nITRSg=s64",
      "userId": "18251415013789702811"
     },
     "user_tz": -300
    },
    "id": "ZRReKznRSPLo",
    "outputId": "ec4b1591-07b2-4b74-bdf2-0fec525b6fca"
   },
   "outputs": [
    {
     "name": "stdout",
     "output_type": "stream",
     "text": [
      "[[1283, 1508], [12, 13, 303, 1427, 512, 92, 72, 250, 4231, 229, 7375, 1617], [12, 227, 319, 9, 528, 869, 1160, 202, 14, 9608, 6197, 1139], [12, 13, 116, 72, 250, 5666, 79, 92, 8619, 79, 311, 1819, 1272], [12, 224, 3004, 29, 295, 3005, 556, 250, 733, 72, 138, 30, 1960]]\n"
     ]
    }
   ],
   "source": [
    "print (sorted_summaries[:5])"
   ]
  },
  {
   "cell_type": "markdown",
   "metadata": {
    "colab_type": "text",
    "id": "jYnQFLER6mlY"
   },
   "source": [
    "## Build Model"
   ]
  },
  {
   "cell_type": "code",
   "execution_count": null,
   "metadata": {
    "colab": {},
    "colab_type": "code",
    "id": "kgtPLItgSXsy"
   },
   "outputs": [],
   "source": []
  },
  {
   "cell_type": "code",
   "execution_count": null,
   "metadata": {
    "colab": {},
    "colab_type": "code",
    "id": "q81Tni8PSXnZ"
   },
   "outputs": [],
   "source": []
  },
  {
   "cell_type": "code",
   "execution_count": 40,
   "metadata": {
    "colab": {},
    "colab_type": "code",
    "id": "U1MIZPcl6mlZ"
   },
   "outputs": [],
   "source": [
    "def model_inputs():\n",
    "    '''Create palceholders for inputs to the model'''\n",
    "    \n",
    "    input_data = tf.placeholder(tf.int32, [None, None], name='input')\n",
    "    targets = tf.placeholder(tf.int32, [None, None], name='targets')\n",
    "    lr = tf.placeholder(tf.float32, name='learning_rate')\n",
    "    keep_prob = tf.placeholder(tf.float32, name='keep_prob')\n",
    "    summary_length = tf.placeholder(tf.int32, (None,), name='summary_length')\n",
    "    max_summary_length = tf.reduce_max(summary_length, name='max_dec_len')\n",
    "    text_length = tf.placeholder(tf.int32, (None,), name='text_length')\n",
    "\n",
    "    return input_data, targets, lr, keep_prob, summary_length, max_summary_length, text_length"
   ]
  },
  {
   "cell_type": "code",
   "execution_count": 41,
   "metadata": {
    "colab": {},
    "colab_type": "code",
    "id": "dGoxdoHz6mlc"
   },
   "outputs": [],
   "source": [
    "def process_encoding_input(target_data, vocab_to_int, batch_size):\n",
    "    '''Remove the last word id from each batch and concat the <GO> to the begining of each batch'''\n",
    "    \n",
    "    ending = tf.strided_slice(target_data, [0, 0], [batch_size, -1], [1, 1])\n",
    "    dec_input = tf.concat([tf.fill([batch_size, 1], vocab_to_int['<GO>']), ending], 1)\n",
    "\n",
    "    return dec_input"
   ]
  },
  {
   "cell_type": "code",
   "execution_count": 42,
   "metadata": {
    "colab": {},
    "colab_type": "code",
    "id": "aJ7p3phH6mld"
   },
   "outputs": [],
   "source": [
    "def encoding_layer(rnn_size, sequence_length, num_layers, rnn_inputs, keep_prob):\n",
    "    '''Create the encoding layer'''\n",
    "    \n",
    "    for layer in range(num_layers):\n",
    "        with tf.variable_scope('encoder_{}'.format(layer)):\n",
    "            cell_fw = tf.contrib.rnn.LSTMCell(rnn_size,\n",
    "                                              initializer=tf.random_uniform_initializer(-0.1, 0.1, seed=2))\n",
    "            cell_fw = tf.contrib.rnn.DropoutWrapper(cell_fw, \n",
    "                                                    input_keep_prob = keep_prob)\n",
    "\n",
    "            cell_bw = tf.contrib.rnn.LSTMCell(rnn_size,\n",
    "                                              initializer=tf.random_uniform_initializer(-0.1, 0.1, seed=2))\n",
    "            cell_bw = tf.contrib.rnn.DropoutWrapper(cell_bw, \n",
    "                                                    input_keep_prob = keep_prob)\n",
    "\n",
    "            enc_output, enc_state = tf.nn.bidirectional_dynamic_rnn(cell_fw, \n",
    "                                                                    cell_bw, \n",
    "                                                                    rnn_inputs,\n",
    "                                                                    sequence_length,\n",
    "                                                                    dtype=tf.float32)\n",
    "    # Join outputs since we are using a bidirectional RNN\n",
    "    enc_output = tf.concat(enc_output,2)\n",
    "    \n",
    "    return enc_output, enc_state"
   ]
  },
  {
   "cell_type": "code",
   "execution_count": 43,
   "metadata": {
    "colab": {},
    "colab_type": "code",
    "id": "ejCY-IG56mlg"
   },
   "outputs": [],
   "source": [
    "\n",
    "def training_decoding_layer(dec_embed_input, summary_length, dec_cell, initial_state, output_layer, \n",
    "                            vocab_size, max_summary_length):\n",
    "    '''Create the training logits'''\n",
    "    \n",
    "    training_helper = tf.contrib.seq2seq.TrainingHelper(inputs=dec_embed_input,\n",
    "                                                        sequence_length=summary_length,\n",
    "                                                        time_major=False)\n",
    "\n",
    "    training_decoder = tf.contrib.seq2seq.BasicDecoder(dec_cell,\n",
    "                                                       training_helper,\n",
    "                                                       initial_state,\n",
    "                                                       output_layer) \n",
    "\n",
    "    training_logits, _ , _ = tf.contrib.seq2seq.dynamic_decode(training_decoder,\n",
    "                                                           output_time_major=False,\n",
    "                                                           impute_finished=True,\n",
    "                                                           maximum_iterations=max_summary_length)\n",
    "    return training_decoder"
   ]
  },
  {
   "cell_type": "code",
   "execution_count": 44,
   "metadata": {
    "colab": {},
    "colab_type": "code",
    "id": "p5RpDsV56mll"
   },
   "outputs": [],
   "source": [
    "def inference_decoding_layer(embeddings, start_token, end_token, dec_cell, initial_state, output_layer,\n",
    "                             max_summary_length, batch_size):\n",
    "    '''Create the inference logits'''\n",
    "    \n",
    "    start_tokens = tf.tile(tf.constant([start_token], dtype=tf.int32), [batch_size], name='start_tokens')\n",
    "    \n",
    "    inference_helper = tf.contrib.seq2seq.GreedyEmbeddingHelper(embeddings,\n",
    "                                                                start_tokens,\n",
    "                                                                end_token)\n",
    "                \n",
    "    inference_decoder = tf.contrib.seq2seq.BasicDecoder(dec_cell,\n",
    "                                                        inference_helper,\n",
    "                                                        initial_state,\n",
    "                                                        output_layer)\n",
    "                \n",
    "    inference_logits, _ , _ = tf.contrib.seq2seq.dynamic_decode(inference_decoder,\n",
    "                                                            output_time_major=False,\n",
    "                                                            impute_finished=True,\n",
    "                                                            maximum_iterations=max_summary_length)\n",
    "    \n",
    "    return inference_decoder"
   ]
  },
  {
   "cell_type": "code",
   "execution_count": 45,
   "metadata": {
    "colab": {},
    "colab_type": "code",
    "id": "MBcDmTXx6mln"
   },
   "outputs": [],
   "source": [
    "\n",
    "def decoding_layer(dec_embed_input, embeddings, enc_output, enc_state, vocab_size, text_length, summary_length, \n",
    "                   max_summary_length, rnn_size, vocab_to_int, keep_prob, batch_size, num_layers):\n",
    "    '''Create the decoding cell and attention for the training and inference decoding layers'''\n",
    "    \n",
    "    for layer in range(num_layers):\n",
    "        with tf.variable_scope('decoder_{}'.format(layer)):\n",
    "            lstm = tf.contrib.rnn.LSTMCell(rnn_size,\n",
    "                                           initializer=tf.random_uniform_initializer(-0.1, 0.1, seed=2))\n",
    "            dec_cell = tf.contrib.rnn.DropoutWrapper(lstm, \n",
    "                                                     input_keep_prob = keep_prob)\n",
    "    \n",
    "    output_layer = Dense(vocab_size,\n",
    "                         kernel_initializer = tf.truncated_normal_initializer(mean = 0.0, stddev=0.1))\n",
    "    \n",
    "    attn_mech = tf.contrib.seq2seq.BahdanauAttention(rnn_size,\n",
    "                                                  enc_output,\n",
    "                                                  text_length,\n",
    "                                                  normalize=False,\n",
    "                                                  name='BahdanauAttention')\n",
    "\n",
    "    dec_cell = tf.contrib.seq2seq.AttentionWrapper(dec_cell,\n",
    "                                                          attn_mech,\n",
    "                                                          rnn_size)\n",
    "            \n",
    "    #initial_state = tf.contrib.seq2seq.AttentionWrapperState(enc_state[0],\n",
    "    #                                                                _zero_state_tensors(rnn_size, \n",
    "    #                                                                                    batch_size, \n",
    "    #                                                                                    tf.float32)) \n",
    "    initial_state = dec_cell.zero_state(batch_size=batch_size,dtype=tf.float32).clone(cell_state=enc_state[0])\n",
    "\n",
    "    with tf.variable_scope(\"decode\"):\n",
    "        training_decoder = training_decoding_layer(dec_embed_input, \n",
    "                                                  summary_length, \n",
    "                                                  dec_cell, \n",
    "                                                  initial_state,\n",
    "                                                  output_layer,\n",
    "                                                  vocab_size, \n",
    "                                                  max_summary_length)\n",
    "        \n",
    "        training_logits,_ ,_ = tf.contrib.seq2seq.dynamic_decode(training_decoder,\n",
    "                                  output_time_major=False,\n",
    "                                  impute_finished=True,\n",
    "                                  maximum_iterations=max_summary_length)\n",
    "    with tf.variable_scope(\"decode\", reuse=True):\n",
    "        inference_decoder = inference_decoding_layer(embeddings,  \n",
    "                                                    vocab_to_int['<GO>'], \n",
    "                                                    vocab_to_int['<EOS>'],\n",
    "                                                    dec_cell, \n",
    "                                                    initial_state, \n",
    "                                                    output_layer,\n",
    "                                                    max_summary_length,\n",
    "                                                    batch_size)\n",
    "        \n",
    "        inference_logits,_ ,_ = tf.contrib.seq2seq.dynamic_decode(inference_decoder,\n",
    "                                  output_time_major=False,\n",
    "                                  impute_finished=True,\n",
    "                                  maximum_iterations=max_summary_length)\n",
    "\n",
    "    return training_logits, inference_logits"
   ]
  },
  {
   "cell_type": "code",
   "execution_count": 46,
   "metadata": {
    "colab": {},
    "colab_type": "code",
    "id": "JuVESpih6mlo"
   },
   "outputs": [],
   "source": [
    "def seq2seq_model(input_data, target_data, keep_prob, text_length, summary_length, max_summary_length, \n",
    "                  vocab_size, rnn_size, num_layers, vocab_to_int, batch_size):\n",
    "    '''Use the previous functions to create the training and inference logits'''\n",
    "    \n",
    "    # Use Numberbatch's embeddings and the newly created ones as our embeddings\n",
    "    embeddings = word_embedding_matrix\n",
    "    \n",
    "    enc_embed_input = tf.nn.embedding_lookup(embeddings, input_data)\n",
    "    enc_output, enc_state = encoding_layer(rnn_size, text_length, num_layers, enc_embed_input, keep_prob)\n",
    "    \n",
    "    dec_input = process_encoding_input(target_data, vocab_to_int, batch_size)\n",
    "    dec_embed_input = tf.nn.embedding_lookup(embeddings, dec_input)\n",
    "    \n",
    "    training_logits, inference_logits  = decoding_layer(dec_embed_input, \n",
    "                                                        embeddings,\n",
    "                                                        enc_output,\n",
    "                                                        enc_state, \n",
    "                                                        vocab_size, \n",
    "                                                        text_length, \n",
    "                                                        summary_length, \n",
    "                                                        max_summary_length,\n",
    "                                                        rnn_size, \n",
    "                                                        vocab_to_int, \n",
    "                                                        keep_prob, \n",
    "                                                        batch_size,\n",
    "                                                        num_layers)\n",
    "    \n",
    "    return training_logits, inference_logits"
   ]
  },
  {
   "cell_type": "code",
   "execution_count": 47,
   "metadata": {
    "colab": {},
    "colab_type": "code",
    "id": "C6w_YGts6mlq"
   },
   "outputs": [],
   "source": [
    "\n",
    "def pad_sentence_batch(sentence_batch):\n",
    "    \"\"\"Pad sentences with <PAD> so that each sentence of a batch has the same length\"\"\"\n",
    "    max_sentence = max([len(sentence) for sentence in sentence_batch])\n",
    "    return [sentence + [vocab_to_int['<PAD>']] * (max_sentence - len(sentence)) for sentence in sentence_batch]"
   ]
  },
  {
   "cell_type": "code",
   "execution_count": 48,
   "metadata": {
    "colab": {},
    "colab_type": "code",
    "id": "kW6wc5VA6mls"
   },
   "outputs": [],
   "source": [
    "def get_batches(summaries, texts, batch_size):\n",
    "    \"\"\"Batch summaries, texts, and the lengths of their sentences together\"\"\"\n",
    "    for batch_i in range(0, len(texts)//batch_size):\n",
    "        start_i = batch_i * batch_size\n",
    "        summaries_batch = summaries[start_i:start_i + batch_size]\n",
    "        texts_batch = texts[start_i:start_i + batch_size]\n",
    "        pad_summaries_batch = np.array(pad_sentence_batch(summaries_batch))\n",
    "        pad_texts_batch = np.array(pad_sentence_batch(texts_batch))\n",
    "        \n",
    "        # Need the lengths for the _lengths parameters\n",
    "        pad_summaries_lengths = []\n",
    "        for summary in pad_summaries_batch:\n",
    "            pad_summaries_lengths.append(len(summary))\n",
    "        \n",
    "        pad_texts_lengths = []\n",
    "        for text in pad_texts_batch:\n",
    "            pad_texts_lengths.append(len(text))\n",
    "        \n",
    "        yield pad_summaries_batch, pad_texts_batch, pad_summaries_lengths, pad_texts_lengths"
   ]
  },
  {
   "cell_type": "code",
   "execution_count": 49,
   "metadata": {
    "colab": {},
    "colab_type": "code",
    "id": "gUhPBryV6mlv"
   },
   "outputs": [],
   "source": [
    "# Set the Hyperparameters\n",
    "epochs = 50\n",
    "batch_size = 64\n",
    "rnn_size = 256\n",
    "num_layers = 6\n",
    "learning_rate = 0.005\n",
    "keep_probability = 0.5"
   ]
  },
  {
   "cell_type": "code",
   "execution_count": 50,
   "metadata": {
    "colab": {
     "base_uri": "https://localhost:8080/",
     "height": 505
    },
    "colab_type": "code",
    "executionInfo": {
     "elapsed": 5917,
     "status": "ok",
     "timestamp": 1583157328214,
     "user": {
      "displayName": "Muneeb Sial",
      "photoUrl": "https://lh3.googleusercontent.com/a-/AOh14GgrHZwwlxmJvXeNRBPRQ3bDeojuUaBRlm9pm-gwIg=s64",
      "userId": "02013851263585652343"
     },
     "user_tz": -300
    },
    "id": "3I3bJqTD6mlx",
    "outputId": "5354efcc-53ad-43e5-b72c-bcfbf754e7c7"
   },
   "outputs": [
    {
     "name": "stdout",
     "output_type": "stream",
     "text": [
      "WARNING:tensorflow:\n",
      "The TensorFlow contrib module will not be included in TensorFlow 2.0.\n",
      "For more information, please see:\n",
      "  * https://github.com/tensorflow/community/blob/master/rfcs/20180907-contrib-sunset.md\n",
      "  * https://github.com/tensorflow/addons\n",
      "  * https://github.com/tensorflow/io (for I/O related ops)\n",
      "If you depend on functionality not listed there, please file an issue.\n",
      "\n",
      "WARNING:tensorflow:From <ipython-input-42-9390cb26606a>:7: LSTMCell.__init__ (from tensorflow.python.ops.rnn_cell_impl) is deprecated and will be removed in a future version.\n",
      "Instructions for updating:\n",
      "This class is equivalent as tf.keras.layers.LSTMCell, and will be replaced by that in Tensorflow 2.0.\n",
      "WARNING:tensorflow:From <ipython-input-42-9390cb26606a>:20: bidirectional_dynamic_rnn (from tensorflow.python.ops.rnn) is deprecated and will be removed in a future version.\n",
      "Instructions for updating:\n",
      "Please use `keras.layers.Bidirectional(keras.layers.RNN(cell))`, which is equivalent to this API\n",
      "WARNING:tensorflow:From C:\\Users\\Public\\Anaconda3\\lib\\site-packages\\tensorflow_core\\python\\ops\\rnn.py:464: dynamic_rnn (from tensorflow.python.ops.rnn) is deprecated and will be removed in a future version.\n",
      "Instructions for updating:\n",
      "Please use `keras.layers.RNN(cell)`, which is equivalent to this API\n",
      "WARNING:tensorflow:From C:\\Users\\Public\\Anaconda3\\lib\\site-packages\\tensorflow_core\\python\\ops\\rnn_cell_impl.py:958: Layer.add_variable (from tensorflow.python.keras.engine.base_layer) is deprecated and will be removed in a future version.\n",
      "Instructions for updating:\n",
      "Please use `layer.add_weight` method instead.\n",
      "WARNING:tensorflow:From C:\\Users\\Public\\Anaconda3\\lib\\site-packages\\tensorflow_core\\python\\ops\\rnn_cell_impl.py:962: calling Zeros.__init__ (from tensorflow.python.ops.init_ops) with dtype is deprecated and will be removed in a future version.\n",
      "Instructions for updating:\n",
      "Call initializer instance with the dtype argument instead of passing it to the constructor\n",
      "WARNING:tensorflow:From C:\\Users\\Public\\Anaconda3\\lib\\site-packages\\tensorflow_core\\python\\ops\\rnn.py:244: where (from tensorflow.python.ops.array_ops) is deprecated and will be removed in a future version.\n",
      "Instructions for updating:\n",
      "Use tf.where in 2.0, which has the same broadcast rule as np.where\n",
      "Graph is built.\n"
     ]
    }
   ],
   "source": [
    "# Build the graph\n",
    "train_graph = tf.Graph()\n",
    "# Set the graph to default to ensure that it is ready for training\n",
    "with train_graph.as_default():\n",
    "    \n",
    "    # Load the model inputs    \n",
    "    input_data, targets, lr, keep_prob, summary_length, max_summary_length, text_length = model_inputs()\n",
    "\n",
    "    # Create the training and inference logits\n",
    "    training_logits, inference_logits = seq2seq_model(tf.reverse(input_data, [-1]),\n",
    "                                                      targets, \n",
    "                                                      keep_prob,   \n",
    "                                                      text_length,\n",
    "                                                      summary_length,\n",
    "                                                      max_summary_length,\n",
    "                                                      len(vocab_to_int)+1,\n",
    "                                                      rnn_size, \n",
    "                                                      num_layers, \n",
    "                                                      vocab_to_int,\n",
    "                                                      batch_size)\n",
    "    \n",
    "    # Create tensors for the training logits and inference logits\n",
    "    training_logits = tf.identity(training_logits.rnn_output, 'logits')\n",
    "    inference_logits = tf.identity(inference_logits.sample_id, name='predictions')\n",
    "    \n",
    "    # Create the weights for sequence_loss\n",
    "    masks = tf.sequence_mask(summary_length, max_summary_length, dtype=tf.float32, name='masks')\n",
    "\n",
    "    with tf.name_scope(\"optimization\"):\n",
    "        # Loss function\n",
    "        cost = tf.contrib.seq2seq.sequence_loss(\n",
    "            training_logits,\n",
    "            targets,\n",
    "            masks)\n",
    "\n",
    "        # Optimizer\n",
    "        optimizer = tf.train.AdamOptimizer(learning_rate)\n",
    "\n",
    "        # Gradient Clipping\n",
    "        gradients = optimizer.compute_gradients(cost)\n",
    "        capped_gradients = [(tf.clip_by_value(grad, -5., 5.), var) for grad, var in gradients if grad is not None]\n",
    "        train_op = optimizer.apply_gradients(capped_gradients)\n",
    "print(\"Graph is built.\")"
   ]
  },
  {
   "cell_type": "markdown",
   "metadata": {
    "colab_type": "text",
    "id": "fmFOlquE6ml0"
   },
   "source": [
    "## Training the Model"
   ]
  },
  {
   "cell_type": "code",
   "execution_count": 51,
   "metadata": {
    "colab": {
     "base_uri": "https://localhost:8080/",
     "height": 52
    },
    "colab_type": "code",
    "executionInfo": {
     "elapsed": 2092,
     "status": "ok",
     "timestamp": 1583157328216,
     "user": {
      "displayName": "Muneeb Sial",
      "photoUrl": "https://lh3.googleusercontent.com/a-/AOh14GgrHZwwlxmJvXeNRBPRQ3bDeojuUaBRlm9pm-gwIg=s64",
      "userId": "02013851263585652343"
     },
     "user_tz": -300
    },
    "id": "nlNcRq4j6ml3",
    "outputId": "d3606abd-a950-4b4b-d57e-a45f039e3229"
   },
   "outputs": [
    {
     "name": "stdout",
     "output_type": "stream",
     "text": [
      "The shortest text length: 16\n",
      "The longest text length: 58\n"
     ]
    }
   ],
   "source": [
    "sorted_summaries_short = sorted_summaries\n",
    "sorted_texts_short = sorted_texts\n",
    "#print(sorted_summaries)\n",
    "print(\"The shortest text length:\", len(sorted_texts_short[0]))\n",
    "print(\"The longest text length:\",len(sorted_texts_short[-1]))"
   ]
  },
  {
   "cell_type": "code",
   "execution_count": 0,
   "metadata": {
    "colab": {
     "base_uri": "https://localhost:8080/",
     "height": 1000
    },
    "colab_type": "code",
    "executionInfo": {
     "elapsed": 1671751,
     "status": "ok",
     "timestamp": 1583093938956,
     "user": {
      "displayName": "Muneeb Sial",
      "photoUrl": "https://lh3.googleusercontent.com/a-/AOh14GgrHZwwlxmJvXeNRBPRQ3bDeojuUaBRlm9pm-gwIg=s64",
      "userId": "02013851263585652343"
     },
     "user_tz": -300
    },
    "id": "XASfketR6ml6",
    "outputId": "8943bf9f-eb5c-4134-916a-2646da5225bd"
   },
   "outputs": [
    {
     "name": "stdout",
     "output_type": "stream",
     "text": [
      "Epoch   1/50 Batch   50/150 - Loss:  6.653, Seconds: 8.09\n",
      "Epoch   1/50 Batch  100/150 - Loss:  5.915, Seconds: 7.45\n",
      "Average loss for this update: 6.093\n",
      "New Record!\n",
      "Epoch   2/50 Batch   50/150 - Loss:  5.594, Seconds: 7.26\n",
      "Epoch   2/50 Batch  100/150 - Loss:  5.520, Seconds: 7.44\n",
      "Average loss for this update: 5.476\n",
      "New Record!\n",
      "Epoch   3/50 Batch   50/150 - Loss:  5.368, Seconds: 9.28\n",
      "Epoch   3/50 Batch  100/150 - Loss:  5.265, Seconds: 8.35\n",
      "Average loss for this update: 5.222\n",
      "New Record!\n",
      "Epoch   4/50 Batch   50/150 - Loss:  5.161, Seconds: 9.29\n",
      "Epoch   4/50 Batch  100/150 - Loss:  5.048, Seconds: 8.25\n",
      "Average loss for this update: 5.009\n",
      "New Record!\n",
      "Epoch   5/50 Batch   50/150 - Loss:  4.937, Seconds: 7.32\n",
      "Epoch   5/50 Batch  100/150 - Loss:  4.837, Seconds: 8.31\n",
      "Average loss for this update: 4.796\n",
      "New Record!\n",
      "Epoch   6/50 Batch   50/150 - Loss:  4.737, Seconds: 7.42\n",
      "Epoch   6/50 Batch  100/150 - Loss:  4.638, Seconds: 8.22\n",
      "Average loss for this update: 4.597\n",
      "New Record!\n",
      "Epoch   7/50 Batch   50/150 - Loss:  4.595, Seconds: 7.24\n",
      "Epoch   7/50 Batch  100/150 - Loss:  4.459, Seconds: 8.51\n",
      "Average loss for this update: 4.424\n",
      "New Record!\n",
      "Epoch   8/50 Batch   50/150 - Loss:  4.394, Seconds: 8.14\n",
      "Epoch   8/50 Batch  100/150 - Loss:  4.257, Seconds: 8.08\n",
      "Average loss for this update: 4.223\n",
      "New Record!\n",
      "Epoch   9/50 Batch   50/150 - Loss:  4.216, Seconds: 8.09\n",
      "Epoch   9/50 Batch  100/150 - Loss:  4.042, Seconds: 7.49\n",
      "Average loss for this update: 4.026\n",
      "New Record!\n",
      "Epoch  10/50 Batch   50/150 - Loss:  4.029, Seconds: 8.48\n",
      "Epoch  10/50 Batch  100/150 - Loss:  3.860, Seconds: 8.08\n",
      "Average loss for this update: 3.85\n",
      "New Record!\n",
      "Epoch  11/50 Batch   50/150 - Loss:  3.893, Seconds: 8.10\n",
      "Epoch  11/50 Batch  100/150 - Loss:  3.705, Seconds: 8.45\n",
      "Average loss for this update: 3.696\n",
      "New Record!\n",
      "Epoch  12/50 Batch   50/150 - Loss:  3.742, Seconds: 8.37\n",
      "Epoch  12/50 Batch  100/150 - Loss:  3.557, Seconds: 8.79\n",
      "Average loss for this update: 3.549\n",
      "New Record!\n",
      "Epoch  13/50 Batch   50/150 - Loss:  3.579, Seconds: 7.22\n",
      "Epoch  13/50 Batch  100/150 - Loss:  3.401, Seconds: 10.13\n",
      "Average loss for this update: 3.399\n",
      "New Record!\n",
      "Epoch  14/50 Batch   50/150 - Loss:  3.443, Seconds: 7.97\n",
      "Epoch  14/50 Batch  100/150 - Loss:  3.261, Seconds: 9.39\n",
      "Average loss for this update: 3.267\n",
      "New Record!\n",
      "Epoch  15/50 Batch   50/150 - Loss:  3.326, Seconds: 7.21\n",
      "Epoch  15/50 Batch  100/150 - Loss:  3.139, Seconds: 9.16\n",
      "Average loss for this update: 3.144\n",
      "New Record!\n",
      "Epoch  16/50 Batch   50/150 - Loss:  3.200, Seconds: 8.28\n",
      "Epoch  16/50 Batch  100/150 - Loss:  3.016, Seconds: 9.16\n",
      "Average loss for this update: 3.026\n",
      "New Record!\n",
      "Epoch  17/50 Batch   50/150 - Loss:  3.085, Seconds: 7.76\n",
      "Epoch  17/50 Batch  100/150 - Loss:  2.909, Seconds: 8.27\n",
      "Average loss for this update: 2.917\n",
      "New Record!\n",
      "Epoch  18/50 Batch   50/150 - Loss:  2.984, Seconds: 8.34\n",
      "Epoch  18/50 Batch  100/150 - Loss:  2.808, Seconds: 7.53\n",
      "Average loss for this update: 2.819\n",
      "New Record!\n",
      "Epoch  19/50 Batch   50/150 - Loss:  2.885, Seconds: 8.19\n",
      "Epoch  19/50 Batch  100/150 - Loss:  2.715, Seconds: 8.57\n",
      "Average loss for this update: 2.731\n",
      "New Record!\n",
      "Epoch  20/50 Batch   50/150 - Loss:  2.811, Seconds: 8.00\n",
      "Epoch  20/50 Batch  100/150 - Loss:  2.626, Seconds: 8.56\n",
      "Average loss for this update: 2.643\n",
      "New Record!\n",
      "Epoch  21/50 Batch   50/150 - Loss:  2.719, Seconds: 8.40\n",
      "Epoch  21/50 Batch  100/150 - Loss:  2.552, Seconds: 8.15\n",
      "Average loss for this update: 2.568\n",
      "New Record!\n",
      "Epoch  22/50 Batch   50/150 - Loss:  2.616, Seconds: 7.17\n",
      "Epoch  22/50 Batch  100/150 - Loss:  2.477, Seconds: 8.45\n",
      "Average loss for this update: 2.482\n",
      "New Record!\n",
      "Epoch  23/50 Batch   50/150 - Loss:  2.538, Seconds: 7.97\n",
      "Epoch  23/50 Batch  100/150 - Loss:  2.412, Seconds: 8.32\n",
      "Average loss for this update: 2.416\n",
      "New Record!\n",
      "Epoch  24/50 Batch   50/150 - Loss:  2.481, Seconds: 7.62\n",
      "Epoch  24/50 Batch  100/150 - Loss:  2.332, Seconds: 7.46\n",
      "Average loss for this update: 2.348\n",
      "New Record!\n",
      "Epoch  25/50 Batch   50/150 - Loss:  2.418, Seconds: 7.34\n",
      "Epoch  25/50 Batch  100/150 - Loss:  2.270, Seconds: 9.22\n",
      "Average loss for this update: 2.286\n",
      "New Record!\n",
      "Epoch  26/50 Batch   50/150 - Loss:  2.344, Seconds: 7.27\n",
      "Epoch  26/50 Batch  100/150 - Loss:  2.209, Seconds: 7.61\n",
      "Average loss for this update: 2.22\n",
      "New Record!\n",
      "Epoch  27/50 Batch   50/150 - Loss:  2.284, Seconds: 9.40\n",
      "Epoch  27/50 Batch  100/150 - Loss:  2.146, Seconds: 8.61\n",
      "Average loss for this update: 2.166\n",
      "New Record!\n",
      "Epoch  28/50 Batch   50/150 - Loss:  2.234, Seconds: 9.27\n",
      "Epoch  28/50 Batch  100/150 - Loss:  2.106, Seconds: 8.80\n",
      "Average loss for this update: 2.116\n",
      "New Record!\n",
      "Epoch  29/50 Batch   50/150 - Loss:  2.187, Seconds: 7.54\n",
      "Epoch  29/50 Batch  100/150 - Loss:  2.054, Seconds: 7.90\n",
      "Average loss for this update: 2.066\n",
      "New Record!\n",
      "Epoch  30/50 Batch   50/150 - Loss:  2.140, Seconds: 7.54\n",
      "Epoch  30/50 Batch  100/150 - Loss:  2.002, Seconds: 7.38\n",
      "Average loss for this update: 2.018\n",
      "New Record!\n",
      "Epoch  31/50 Batch   50/150 - Loss:  2.101, Seconds: 7.30\n",
      "Epoch  31/50 Batch  100/150 - Loss:  1.970, Seconds: 9.32\n",
      "Average loss for this update: 1.985\n",
      "New Record!\n",
      "Epoch  32/50 Batch   50/150 - Loss:  2.062, Seconds: 8.24\n",
      "Epoch  32/50 Batch  100/150 - Loss:  1.940, Seconds: 9.04\n",
      "Average loss for this update: 1.952\n",
      "New Record!\n",
      "Epoch  33/50 Batch   50/150 - Loss:  2.023, Seconds: 10.11\n",
      "Epoch  33/50 Batch  100/150 - Loss:  1.890, Seconds: 8.43\n",
      "Average loss for this update: 1.906\n",
      "New Record!\n",
      "Epoch  34/50 Batch   50/150 - Loss:  1.999, Seconds: 8.24\n",
      "Epoch  34/50 Batch  100/150 - Loss:  1.859, Seconds: 8.51\n",
      "Average loss for this update: 1.876\n",
      "New Record!\n",
      "Epoch  35/50 Batch   50/150 - Loss:  1.956, Seconds: 8.61\n",
      "Epoch  35/50 Batch  100/150 - Loss:  1.821, Seconds: 7.70\n",
      "Average loss for this update: 1.84\n",
      "New Record!\n",
      "Epoch  36/50 Batch   50/150 - Loss:  1.936, Seconds: 7.34\n",
      "Epoch  36/50 Batch  100/150 - Loss:  1.787, Seconds: 8.60\n",
      "Average loss for this update: 1.808\n",
      "New Record!\n",
      "Epoch  37/50 Batch   50/150 - Loss:  1.900, Seconds: 7.28\n",
      "Epoch  37/50 Batch  100/150 - Loss:  1.754, Seconds: 8.25\n",
      "Average loss for this update: 1.781\n",
      "New Record!\n",
      "Epoch  38/50 Batch   50/150 - Loss:  1.873, Seconds: 9.61\n",
      "Epoch  38/50 Batch  100/150 - Loss:  1.736, Seconds: 7.91\n",
      "Average loss for this update: 1.756\n",
      "New Record!\n",
      "Epoch  39/50 Batch   50/150 - Loss:  1.848, Seconds: 7.52\n",
      "Epoch  39/50 Batch  100/150 - Loss:  1.700, Seconds: 8.02\n",
      "Average loss for this update: 1.727\n",
      "New Record!\n",
      "Epoch  40/50 Batch   50/150 - Loss:  1.825, Seconds: 8.21\n",
      "Epoch  40/50 Batch  100/150 - Loss:  1.686, Seconds: 7.66\n",
      "Average loss for this update: 1.706\n",
      "New Record!\n",
      "Epoch  41/50 Batch   50/150 - Loss:  1.782, Seconds: 8.57\n",
      "Epoch  41/50 Batch  100/150 - Loss:  1.662, Seconds: 8.91\n",
      "Average loss for this update: 1.676\n",
      "New Record!\n",
      "Epoch  42/50 Batch   50/150 - Loss:  1.733, Seconds: 8.84\n",
      "Epoch  42/50 Batch  100/150 - Loss:  1.615, Seconds: 7.50\n",
      "Average loss for this update: 1.634\n",
      "New Record!\n",
      "Epoch  43/50 Batch   50/150 - Loss:  1.722, Seconds: 8.45\n",
      "Epoch  43/50 Batch  100/150 - Loss:  1.577, Seconds: 9.74\n",
      "Average loss for this update: 1.608\n",
      "New Record!\n",
      "Epoch  44/50 Batch   50/150 - Loss:  1.685, Seconds: 7.27\n",
      "Epoch  44/50 Batch  100/150 - Loss:  1.555, Seconds: 7.44\n",
      "Average loss for this update: 1.581\n",
      "New Record!\n",
      "Epoch  45/50 Batch   50/150 - Loss:  1.650, Seconds: 7.40\n",
      "Epoch  45/50 Batch  100/150 - Loss:  1.522, Seconds: 7.41\n",
      "Average loss for this update: 1.547\n",
      "New Record!\n",
      "Epoch  46/50 Batch   50/150 - Loss:  1.629, Seconds: 8.94\n",
      "Epoch  46/50 Batch  100/150 - Loss:  1.518, Seconds: 7.59\n",
      "Average loss for this update: 1.533\n",
      "New Record!\n",
      "Epoch  47/50 Batch   50/150 - Loss:  1.612, Seconds: 8.22\n",
      "Epoch  47/50 Batch  100/150 - Loss:  1.489, Seconds: 8.41\n",
      "Average loss for this update: 1.51\n",
      "New Record!\n",
      "Epoch  48/50 Batch   50/150 - Loss:  1.588, Seconds: 8.87\n",
      "Epoch  48/50 Batch  100/150 - Loss:  1.468, Seconds: 10.69\n",
      "Average loss for this update: 1.487\n",
      "New Record!\n",
      "Epoch  49/50 Batch   50/150 - Loss:  1.568, Seconds: 7.40\n",
      "Epoch  49/50 Batch  100/150 - Loss:  1.444, Seconds: 7.39\n",
      "Average loss for this update: 1.467\n",
      "New Record!\n",
      "Epoch  50/50 Batch   50/150 - Loss:  1.544, Seconds: 8.02\n",
      "Epoch  50/50 Batch  100/150 - Loss:  1.422, Seconds: 9.17\n",
      "Average loss for this update: 1.447\n",
      "New Record!\n"
     ]
    }
   ],
   "source": [
    "# Train the Model\n",
    "learning_rate_decay = 0.90\n",
    "min_learning_rate = 0.0005\n",
    "display_step = 50 # Check training loss after every 20 batches\n",
    "stop_early = 0 \n",
    "stop = 6000000000000000 #3 # If the update loss does not decrease in 3 consecutive update checks, stop training\n",
    "per_epoch = 1 # Make 3 update checks per epoch\n",
    "update_check = (len(sorted_texts_short)//batch_size//per_epoch)-1\n",
    "\n",
    "update_loss = 0 \n",
    "batch_loss = 0\n",
    "summary_update_loss = [] # Record the update losses for saving improvements in the model\n",
    "\n",
    "  \n",
    "tf.reset_default_graph()\n",
    "checkpoint = \"drive/My Drive/Colab Notebooks/fyp/models/model#1.ckpt\"  #300k sentence\n",
    "with tf.Session(graph=train_graph) as sess:\n",
    "    sess.run(tf.global_variables_initializer())\n",
    "    \n",
    "    # If we want to continue training a previous session\n",
    "    # loader = tf.train.import_meta_graph(checkpoint + '.meta')\n",
    "    # loader.restore(sess, checkpoint)\n",
    "    #sess.run(tf.local_variables_initializer())\n",
    "\n",
    "    for epoch_i in range(1, epochs+1):\n",
    "        update_loss = 0\n",
    "        batch_loss = 0\n",
    "        for batch_i, (summaries_batch, texts_batch, summaries_lengths, texts_lengths) in enumerate(\n",
    "                get_batches(sorted_summaries_short, sorted_texts_short, batch_size)):\n",
    "            start_time = time.time()\n",
    "            _, loss = sess.run(\n",
    "                [train_op, cost],\n",
    "                {input_data: texts_batch,\n",
    "                 targets: summaries_batch,\n",
    "                 lr: learning_rate,\n",
    "                 summary_length: summaries_lengths,\n",
    "                 text_length: texts_lengths,\n",
    "                 keep_prob: keep_probability})\n",
    "\n",
    "            batch_loss += loss\n",
    "            update_loss += loss\n",
    "            end_time = time.time()\n",
    "            batch_time = end_time - start_time\n",
    "\n",
    "            if batch_i % display_step == 0 and batch_i > 0:\n",
    "                print('Epoch {:>3}/{} Batch {:>4}/{} - Loss: {:>6.3f}, Seconds: {:>4.2f}'\n",
    "                      .format(epoch_i,\n",
    "                              epochs, \n",
    "                              batch_i, \n",
    "                              len(sorted_texts_short) // batch_size, \n",
    "                              batch_loss / display_step, \n",
    "                              batch_time*display_step))\n",
    "                batch_loss = 0\n",
    "                \n",
    "                saver = tf.train.Saver() \n",
    "                saver.save(sess, checkpoint)\n",
    "                \n",
    "            if batch_i % update_check == 0 and batch_i > 0:\n",
    "                print(\"Average loss for this update:\", round(update_loss/update_check,3))\n",
    "                summary_update_loss.append(update_loss)\n",
    "                \n",
    "              \n",
    "                  \n",
    "                # If the update loss is at a new minimum, save the model\n",
    "                if update_loss <= min(summary_update_loss):\n",
    "                    print('New Record!') \n",
    "                    stop_early = 0\n",
    "                    saver = tf.train.Saver() \n",
    "                    saver.save(sess, checkpoint)\n",
    "\n",
    "                else:\n",
    "                    print(\"No Improvement.\")\n",
    "                    #stop_early += 1\n",
    "                    #if stop_early == stop:\n",
    "                    #    break\n",
    "                update_loss = 0\n",
    "            \n",
    "                    \n",
    "        # Reduce learning rate, but not below its minimum value\n",
    "        learning_rate *= learning_rate_decay\n",
    "        if learning_rate < min_learning_rate:\n",
    "            learning_rate = min_learning_rate\n",
    "        \n",
    "        #if stop_early == stop:\n",
    "        #    print(\"Stopping Training.\")\n",
    "            #break"
   ]
  },
  {
   "cell_type": "code",
   "execution_count": 0,
   "metadata": {
    "colab": {},
    "colab_type": "code",
    "id": "S_4rooXoU3lP"
   },
   "outputs": [],
   "source": [
    "checkpoint = \"drive/My Drive/Colab Notebooks/best_model.ckpt\" \n",
    "\n",
    "loaded_graph = tf.Graph()\n",
    "with tf.Session(graph=loaded_graph) as sess:\n",
    "    # Load saved model\n",
    "    loader = tf.train.import_meta_graph(checkpoint + '.meta')\n",
    "    loader.restore(sess, checkpoint)\n",
    "    names = []\n",
    "    [names.append(n.name) for n in loaded_graph.as_graph_def().node]\n",
    "names"
   ]
  },
  {
   "cell_type": "markdown",
   "metadata": {
    "colab_type": "text",
    "id": "qLTgl3MT6ml8"
   },
   "source": [
    "## Making Our Own Summaries"
   ]
  },
  {
   "cell_type": "code",
   "execution_count": 52,
   "metadata": {
    "colab": {},
    "colab_type": "code",
    "id": "gJsdh6eG6ml-"
   },
   "outputs": [],
   "source": [
    "def text_to_seq(text):\n",
    "    '''Prepare the text for the model'''\n",
    "    \n",
    "    text = clean_text(text)\n",
    "    return [vocab_to_int.get(word, vocab_to_int['<UNK>']) for word in text.split()]"
   ]
  },
  {
   "cell_type": "code",
   "execution_count": 53,
   "metadata": {
    "colab": {
     "base_uri": "https://localhost:8080/",
     "height": 35
    },
    "colab_type": "code",
    "executionInfo": {
     "elapsed": 8207,
     "status": "ok",
     "timestamp": 1583094142458,
     "user": {
      "displayName": "Muneeb Sial",
      "photoUrl": "https://lh3.googleusercontent.com/a-/AOh14GgrHZwwlxmJvXeNRBPRQ3bDeojuUaBRlm9pm-gwIg=s64",
      "userId": "02013851263585652343"
     },
     "user_tz": -300
    },
    "id": "m2Pbp2Cu6mmE",
    "outputId": "5ec3fb78-3d01-4c2a-eb57-b719d1110ff3"
   },
   "outputs": [],
   "source": [
    "# Create summaries\n",
    "\n",
    "def generate_summary(input_sentence):\n",
    "    paragraphs = input_sentence.split('\\n')\n",
    "    rm_paras = list()\n",
    "    for para in paragraphs:\n",
    "        if len(para)<200:\n",
    "            continue\n",
    "        rm_paras.append(para)\n",
    "\n",
    "    checkpoint = \"./model#1.ckpt\"\n",
    "    \n",
    "    i=1\n",
    "    for para in rm_paras:\n",
    "\n",
    "        text = text_to_seq(para)\n",
    "        loaded_graph = tf.Graph()\n",
    "        with tf.Session(graph=loaded_graph) as sess:\n",
    "            # Load saved model\n",
    "            loader = tf.train.import_meta_graph(checkpoint + '.meta')\n",
    "            loader.restore(sess, checkpoint)\n",
    "\n",
    "            input_data = loaded_graph.get_tensor_by_name('input:0')\n",
    "            logits = loaded_graph.get_tensor_by_name('predictions:0')\n",
    "            text_length = loaded_graph.get_tensor_by_name('text_length:0')\n",
    "            summary_length = loaded_graph.get_tensor_by_name('summary_length:0')\n",
    "            keep_prob = loaded_graph.get_tensor_by_name('keep_prob:0')\n",
    "\n",
    "            #Multiply by batch_size to match the model's input parameters\n",
    "            \n",
    "\n",
    "\n",
    "            answer_logits = sess.run(logits, {input_data: [text]*batch_size, \n",
    "                                              summary_length: [np.random.randint(5,8)], \n",
    "                                              text_length: [len(text)]*batch_size,\n",
    "                                              keep_prob: 1.0})[0] \n",
    "\n",
    "            # Remove the padding from the tweet\n",
    "        pad = vocab_to_int[\"<PAD>\"] \n",
    "        summary = \" \".join([int_to_vocab[i] for i in answer_logits if i != pad])\n",
    "        full_summary += (str(i)+'=>'+summary+'\\n')\n",
    "        i+=1\n",
    "    return full_summary"
   ]
  },
  {
   "cell_type": "code",
   "execution_count": 1,
   "metadata": {},
   "outputs": [],
   "source": []
  },
  {
   "cell_type": "code",
   "execution_count": null,
   "metadata": {
    "scrolled": false
   },
   "outputs": [
    {
     "name": "stdout",
     "output_type": "stream",
     "text": [
      "socket binded to port 5001\n",
      "socket is listening\n",
      "Connected to : 172.16.32.243 : 40850\n",
      "b'{\"Sentence\":\"We collect, store and process your data for processing your purchase on the Site and any possible later claims, and to provide you with our services. We may collect personal information including, but not limited to, your title, name, gender, date of birth, email address, postal address, delivery address (if different), telephone number, mobile number, fax number, payment details, payment card details or bank account details.\\\\n\\\\nWe will use the information you provide to enable us to process your orders and to provide you with the services and information offered through our website and which you request. Further, we will use the information you provide to administer your account with us; verify and carry out financial transactions in relation to payments you make; audit the downloading of data from our website; improve the layout and\\\\/or content of the pages of our website and customize them for users; identify visitors on our website; carry out research on our users\\' demographics; send you info'\n",
      "We collect, store and process your data for processing your purchase on the Site and any possible later claims, and to provide you with our services. We may collect personal information including, but not limited to, your title, name, gender, date of birth, email address, postal address, delivery address if different , telephone number, mobile number, fax number, payment details, payment card details or bank account details.\n",
      "\n",
      "We will use the information you provide to enable us to process your orders and to provide you with the services and information offered through our website and which you request. Further, we will use the information you provide to administer your account with us; verify and carry out financial transactions in relation to payments you make; audit the downloading of data from our website; improve the layout and or content of the pages of our website and customize them for users; identify visitors on our website; carry out research on our users' demographics; send you in\n",
      "sentences =  3\n",
      "651\n",
      "!=0\n"
     ]
    }
   ],
   "source": [
    "import socket\n",
    "from _thread import *\n",
    "import threading\n",
    "import json\n",
    "from io import StringIO\n",
    "\n",
    "\n",
    "def threaded(c):\n",
    "    data = c.recv(1024)\n",
    "\n",
    "    print(data)\n",
    "    data = json.dumps( data.decode(\"utf-8\") )\n",
    "    data = json.loads( data )\n",
    "    input_sentence=data[13:-2]\n",
    "\n",
    "    smry = generate_summary(input_sentence)\n",
    "    dt = json.dumps({\"label\": smry }).encode('utf-8')\n",
    "    dt += b'\\n'\n",
    "    c.send( dt )\n",
    "    \n",
    "    c.close()\n",
    "port = 5001\n",
    "s = socket.socket(socket.AF_INET, socket.SOCK_STREAM)\n",
    "s.bind(( \"0.0.0.0\" , port ))\n",
    "print(\"socket binded to port\", port )\n",
    "s.listen(5)\n",
    "print(\"socket is listening\")\n",
    "all_conn = []\n",
    "while True:\n",
    "    conn, addr = s.accept()\n",
    "    print('Connected to :', addr[0], ':', addr[1])\n",
    "    all_conn.append( conn )\n",
    "    start_new_thread(threaded, (conn,))\n"
   ]
  },
  {
   "cell_type": "code",
   "execution_count": null,
   "metadata": {},
   "outputs": [],
   "source": [
    "s.close()"
   ]
  }
 ],
 "metadata": {
  "accelerator": "GPU",
  "colab": {
   "collapsed_sections": [],
   "name": "FYP1Code.ipynb",
   "provenance": []
  },
  "kernelspec": {
   "display_name": "Python 3",
   "language": "python",
   "name": "python3"
  },
  "language_info": {
   "codemirror_mode": {
    "name": "ipython",
    "version": 3
   },
   "file_extension": ".py",
   "mimetype": "text/x-python",
   "name": "python",
   "nbconvert_exporter": "python",
   "pygments_lexer": "ipython3",
   "version": "3.6.9"
  }
 },
 "nbformat": 4,
 "nbformat_minor": 1
}
